{
 "cells": [
  {
   "cell_type": "markdown",
   "metadata": {},
   "source": [
    "## Terminal Exercises\n",
    "\n",
    "2. Printing, variables and manipulating text (*)"
   ]
  },
  {
   "cell_type": "markdown",
   "metadata": {},
   "source": [
    "\n",
    "\n",
    "a) Print out \"hello from note_home\" in bash\n",
    "```bash\n",
    "echo \"hello from note_home\"\n"
   ]
  },
  {
   "cell_type": "markdown",
   "metadata": {},
   "source": [
    "b) Write this text string into note_home.txt\n",
    "\n",
    "\n",
    "***echo \"hello from note_home\" > note_home.txt***\n",
    "\n",
    "c) Print out the “current path is: ” in bash\n",
    "\n",
    "\n",
    "***echo \"current path is: $(pwd)\"***\n",
    "\n",
    "d) Write this string into note_home.txt in a new line, so it should contain:\n",
    "\n",
    "\n",
    "***echo \"current path is: $(pwd)\" >> note_home.txt***"
   ]
  },
  {
   "cell_type": "markdown",
   "metadata": {},
   "source": [
    "e) Print out the content of note_home.txt\n",
    "\n",
    "\n",
    "***cat note_home.txt***\n",
    "\n",
    "f) Count the number of words in this file\n",
    "\n",
    "wc -w note_home.txt\n",
    "\n",
    "g) Count the number of lines in this file\n",
    "\n",
    "wc -l note_home.txt\n",
    "\n",
    "h) Count the number of files in cool_notes\n",
    "\n",
    "ls -1 cool_notes | wc -l\n",
    "\n",
    "i) Check the disk usage in your directory and make the format human readable\n",
    "\n",
    "du -h"
   ]
  },
  {
   "cell_type": "markdown",
   "metadata": {},
   "source": [
    "# Terminal and API Exercises\n",
    "## 3. Pokeventure (*)\n",
    "\n",
    "a) Create a folder called data with a subfolder called pokemons\n",
    "\n",
    "b) Create a file called pokemon_list.txt\n",
    "\n",
    "c) Type in a random list of pokemons, using echo and the bitshift operator (you choose which pokemons)."
   ]
  },
  {
   "cell_type": "markdown",
   "metadata": {},
   "source": []
  },
  {
   "cell_type": "markdown",
   "metadata": {},
   "source": []
  },
  {
   "cell_type": "markdown",
   "metadata": {},
   "source": []
  }
 ],
 "metadata": {
  "language_info": {
   "name": "python"
  }
 },
 "nbformat": 4,
 "nbformat_minor": 2
}
