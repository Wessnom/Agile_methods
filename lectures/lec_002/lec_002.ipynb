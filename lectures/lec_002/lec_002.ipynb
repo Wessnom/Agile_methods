{
 "cells": [
  {
   "cell_type": "markdown",
   "metadata": {},
   "source": [
    "**Daemon**, kommer från grekiska - \"daimon\" - jmf. nordiska fylgja, skyddsande. En daemon är en process som körs i bakgrunden och inte är kopplad till någon specifik användare. Daemoner är vanliga i Unix-liknande operativsystem, och används för att utföra bakgrundsaktiviteter som inte är kopplade till någon specifik användare. De flesta daemoner körs som en del av operativsystemet och hanterar olika uppgifter, som att hantera nätverksanslutningar, schemaläggning av uppgifter, loggning av händelser och mycket mer. <br>\n",
    "\n",
    "**Containerd**, som är en daemon som hanterar containerkörning, är ett exempel på en daemon som körs i bakgrunden och inte är kopplad till någon specifik användare. Containerd är en daemon som hanterar containerkörning och är en viktig del av många containerorkestreringsplattformar, som Docker och Kubernetes. <br>\n",
    "\n",
    "**Systemd**, som är en annan daemon som hanterar systemprocesser och tjänster, är ett annat exempel på en daemon som körs i bakgrunden och inte är kopplad till någon specifik användare. Systemd är en daemon som hanterar systemprocesser och tjänster och är en viktig del av många moderna Linux-distributioner. <br>\n",
    "\n",
    "**Service** är en term som används för att beskriva en process eller en uppgift som körs i bakgrunden och inte är kopplad till någon specifik användare. En service kan vara en daemon, en applikation eller en tjänst som körs på en server eller en dator. Service är ett brett begrepp som kan användas för att beskriva många olika typer av processer och uppgifter som körs i bakgrunden. <br>"
   ]
  },
  {
   "cell_type": "markdown",
   "metadata": {},
   "source": [
    "https://github.com/compose-spec/compose-spec/blob/master/05-services.md\n"
   ]
  },
  {
   "cell_type": "code",
   "execution_count": null,
   "metadata": {},
   "outputs": [],
   "source": []
  }
 ],
 "metadata": {
  "language_info": {
   "name": "python"
  }
 },
 "nbformat": 4,
 "nbformat_minor": 2
}
